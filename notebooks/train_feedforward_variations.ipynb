{
 "cells": [
  {
   "cell_type": "code",
   "execution_count": 1,
   "metadata": {},
   "outputs": [],
   "source": [
    "import os\n",
    "import sys\n",
    "\n",
    "os.chdir(\"..\")\n",
    "sys.path.append(\"..\")"
   ]
  },
  {
   "cell_type": "code",
   "execution_count": 2,
   "metadata": {},
   "outputs": [
    {
     "name": "stderr",
     "output_type": "stream",
     "text": [
      "/home/hakon/miniforge3/envs/exprts/lib/python3.9/site-packages/gluonts/json.py:101: UserWarning: Using `json`-module for json-handling. Consider installing one of `orjson`, `ujson` to speed up serialization and deserialization.\n",
      "  warnings.warn(\n"
     ]
    }
   ],
   "source": [
    "import logging\n",
    "import random\n",
    "import yaml\n",
    "\n",
    "import numpy as np\n",
    "import torch\n",
    "\n",
    "from src.models.utils import get_model\n",
    "from src.models.trainer import Trainer"
   ]
  },
  {
   "cell_type": "code",
   "execution_count": 3,
   "metadata": {},
   "outputs": [],
   "source": [
    "def fit_model(config_path):\n",
    "    with open(config_path, \"r\") as f:\n",
    "        config = yaml.load(f, Loader=yaml.FullLoader)\n",
    "\n",
    "    os.makedirs(config[\"path\"], exist_ok=True)\n",
    "    logging.basicConfig(\n",
    "        filename=os.path.join(config[\"path\"], \"train.log\"),\n",
    "        level=logging.INFO,\n",
    "        format=\"%(asctime)s %(message)s\",\n",
    "        datefmt=\"%m/%d/%Y %I:%M:%S\",\n",
    "    )\n",
    "\n",
    "    random.seed(config[\"seed\"])\n",
    "    np.random.seed(config[\"seed\"])\n",
    "    torch.manual_seed(config[\"seed\"])\n",
    "\n",
    "    model_args = config[\"model_args\"]\n",
    "    trainer_args = config[\"trainer_args\"]\n",
    "    device = torch.device(\"cuda:0\" if torch.cuda.is_available() else \"cpu\")\n",
    "\n",
    "    model = get_model(config[\"model_name\"])(\n",
    "        **model_args, device=device, path=config[\"path\"]\n",
    "    ).to(device)\n",
    "    trainer = Trainer(\n",
    "        **trainer_args, sp=config[\"sp\"], data_source=config[\"data_source\"]\n",
    "    )\n",
    "\n",
    "    datadir = os.path.join(\"./data\", config[\"dataset\"])\n",
    "\n",
    "    model.fit(trainer, datadir)\n",
    "\n",
    "\n",
    "config_paths = [\n",
    "    \"experiments/electricity_nips/feedforward/config.yaml\",\n",
    "    \"experiments/electricity_nips/feedforward_alternative/config.yaml\",\n",
    "    \"experiments/electricity_nips/feedforward_augmented/config.yaml\",\n",
    "]\n",
    "\n",
    "for config in config_paths:\n",
    "    fit_model(config)"
   ]
  }
 ],
 "metadata": {
  "kernelspec": {
   "display_name": "exprts",
   "language": "python",
   "name": "python3"
  },
  "language_info": {
   "codemirror_mode": {
    "name": "ipython",
    "version": 3
   },
   "file_extension": ".py",
   "mimetype": "text/x-python",
   "name": "python",
   "nbconvert_exporter": "python",
   "pygments_lexer": "ipython3",
   "version": "3.9.21"
  }
 },
 "nbformat": 4,
 "nbformat_minor": 2
}
