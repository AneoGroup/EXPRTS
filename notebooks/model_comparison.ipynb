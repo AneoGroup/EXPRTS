{
 "cells": [
  {
   "cell_type": "code",
   "execution_count": 1,
   "metadata": {},
   "outputs": [],
   "source": [
    "import numpy as np\n",
    "\n",
    "metric = \"mase\""
   ]
  },
  {
   "cell_type": "code",
   "execution_count": 2,
   "metadata": {},
   "outputs": [
    {
     "data": {
      "text/plain": [
       "(1.0186931918485758, 0.5112137347764186, 8.501847716252916)"
      ]
     },
     "execution_count": 2,
     "metadata": {},
     "output_type": "execute_result"
    }
   ],
   "source": [
    "original_mase = np.load(f\"../experiments/electricity_nips/feedforward/{metric}.npy\")\n",
    "np.nanmean(original_mase), np.nanmedian(original_mase), np.nanstd(original_mase)"
   ]
  },
  {
   "cell_type": "code",
   "execution_count": 3,
   "metadata": {},
   "outputs": [
    {
     "data": {
      "text/plain": [
       "(2.3118991385744936, 1.7783516932343049, 8.608290849254493)"
      ]
     },
     "execution_count": 3,
     "metadata": {},
     "output_type": "execute_result"
    }
   ],
   "source": [
    "alternative_mase = np.load(f\"../experiments/electricity_nips/feedforward_alternative/{metric}.npy\")\n",
    "np.nanmean(alternative_mase), np.nanmedian(alternative_mase), np.nanstd(alternative_mase)"
   ]
  },
  {
   "cell_type": "code",
   "execution_count": 4,
   "metadata": {},
   "outputs": [
    {
     "data": {
      "text/plain": [
       "(1.1753567841364252, 0.6725428725391476, 8.508891578954904)"
      ]
     },
     "execution_count": 4,
     "metadata": {},
     "output_type": "execute_result"
    }
   ],
   "source": [
    "augmented_mase = np.load(f\"../experiments/electricity_nips/feedforward_augmented/{metric}.npy\")\n",
    "np.nanmean(augmented_mase), np.nanmedian(augmented_mase), np.nanstd(augmented_mase)"
   ]
  },
  {
   "cell_type": "code",
   "execution_count": 5,
   "metadata": {},
   "outputs": [
    {
     "data": {
      "text/plain": [
       "13"
      ]
     },
     "execution_count": 5,
     "metadata": {},
     "output_type": "execute_result"
    }
   ],
   "source": [
    "indexes = [79, 449, 744, 817, 819, 1114, 1187, 1189, 1240, 1484, 1557, 1559, 2111]\n",
    "len(indexes)"
   ]
  },
  {
   "cell_type": "code",
   "execution_count": 6,
   "metadata": {},
   "outputs": [
    {
     "data": {
      "text/plain": [
       "(34.16964718716724, 5.0703393270333645, 113.73152607609309)"
      ]
     },
     "execution_count": 6,
     "metadata": {},
     "output_type": "execute_result"
    }
   ],
   "source": [
    "original_mase[indexes].mean(), np.median(original_mase[indexes]), np.std(original_mase[indexes])"
   ]
  },
  {
   "cell_type": "code",
   "execution_count": 7,
   "metadata": {},
   "outputs": [
    {
     "data": {
      "text/plain": [
       "(31.394265987296613, 2.2437687354794273, 114.76233520627855)"
      ]
     },
     "execution_count": 7,
     "metadata": {},
     "output_type": "execute_result"
    }
   ],
   "source": [
    "alternative_mase[indexes].mean(), np.median(alternative_mase[indexes]), np.std(alternative_mase[indexes])"
   ]
  },
  {
   "cell_type": "code",
   "execution_count": 8,
   "metadata": {},
   "outputs": [
    {
     "data": {
      "text/plain": [
       "(31.98192046874672, 2.8151578745955934, 114.26526455037416)"
      ]
     },
     "execution_count": 8,
     "metadata": {},
     "output_type": "execute_result"
    }
   ],
   "source": [
    "augmented_mase[indexes].mean(), np.median(augmented_mase[indexes]), np.std(augmented_mase[indexes])"
   ]
  },
  {
   "cell_type": "code",
   "execution_count": 9,
   "metadata": {},
   "outputs": [
    {
     "data": {
      "text/plain": [
       "array([363.79740112,  23.71681702,   3.35474435,   7.84362808,\n",
       "         7.2887468 ,   4.75039434,   2.47132658,   7.47936509,\n",
       "         3.19039923,   4.54002923,   2.51200272,   6.48536663,\n",
       "         6.77519224])"
      ]
     },
     "execution_count": 9,
     "metadata": {},
     "output_type": "execute_result"
    }
   ],
   "source": [
    "original_mase[indexes].mean(axis=1)"
   ]
  },
  {
   "cell_type": "code",
   "execution_count": 10,
   "metadata": {},
   "outputs": [
    {
     "data": {
      "text/plain": [
       "array([365.41287132,   5.60732733,   1.60055783,  10.56085974,\n",
       "         3.74771959,   1.42368796,   3.69002772,   1.81334436,\n",
       "         1.30185572,   1.51384458,   3.67866761,   2.37174985,\n",
       "         5.40294422])"
      ]
     },
     "execution_count": 10,
     "metadata": {},
     "output_type": "execute_result"
    }
   ],
   "source": [
    "alternative_mase[indexes].mean(axis=1)"
   ]
  },
  {
   "cell_type": "code",
   "execution_count": 11,
   "metadata": {},
   "outputs": [
    {
     "data": {
      "text/plain": [
       "array([364.11566301,  13.95921407,   1.42005101,  10.51665884,\n",
       "         4.05188834,   2.75760544,   2.02237201,   2.68519676,\n",
       "         1.16082143,   2.14363916,   3.37793084,   2.44646759,\n",
       "         5.10745759])"
      ]
     },
     "execution_count": 11,
     "metadata": {},
     "output_type": "execute_result"
    }
   ],
   "source": [
    "augmented_mase[indexes].mean(axis=1)"
   ]
  }
 ],
 "metadata": {
  "kernelspec": {
   "display_name": "exprts",
   "language": "python",
   "name": "python3"
  },
  "language_info": {
   "codemirror_mode": {
    "name": "ipython",
    "version": 3
   },
   "file_extension": ".py",
   "mimetype": "text/x-python",
   "name": "python",
   "nbconvert_exporter": "python",
   "pygments_lexer": "ipython3",
   "version": "3.9.21"
  }
 },
 "nbformat": 4,
 "nbformat_minor": 2
}
